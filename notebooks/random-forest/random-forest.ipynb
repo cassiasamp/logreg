{
 "cells": [
  {
   "cell_type": "code",
   "execution_count": 1,
   "id": "e7d7c89b",
   "metadata": {},
   "outputs": [],
   "source": [
    "import pandas as pd\n",
    "import numpy as np"
   ]
  },
  {
   "cell_type": "code",
   "execution_count": 3,
   "id": "eae89668",
   "metadata": {},
   "outputs": [],
   "source": [
    "dataset = pd.read_csv('../../datasets/random-forest/petrol_consumption.csv')"
   ]
  },
  {
   "cell_type": "code",
   "execution_count": 4,
   "id": "95ab2659",
   "metadata": {},
   "outputs": [
    {
     "data": {
      "text/html": [
       "<div>\n",
       "<style scoped>\n",
       "    .dataframe tbody tr th:only-of-type {\n",
       "        vertical-align: middle;\n",
       "    }\n",
       "\n",
       "    .dataframe tbody tr th {\n",
       "        vertical-align: top;\n",
       "    }\n",
       "\n",
       "    .dataframe thead th {\n",
       "        text-align: right;\n",
       "    }\n",
       "</style>\n",
       "<table border=\"1\" class=\"dataframe\">\n",
       "  <thead>\n",
       "    <tr style=\"text-align: right;\">\n",
       "      <th></th>\n",
       "      <th>Petrol_tax</th>\n",
       "      <th>Average_income</th>\n",
       "      <th>Paved_Highways</th>\n",
       "      <th>Population_Driver_licence(%)</th>\n",
       "      <th>Petrol_Consumption</th>\n",
       "    </tr>\n",
       "  </thead>\n",
       "  <tbody>\n",
       "    <tr>\n",
       "      <th>0</th>\n",
       "      <td>9.0</td>\n",
       "      <td>3571</td>\n",
       "      <td>1976</td>\n",
       "      <td>0.525</td>\n",
       "      <td>541</td>\n",
       "    </tr>\n",
       "    <tr>\n",
       "      <th>1</th>\n",
       "      <td>9.0</td>\n",
       "      <td>4092</td>\n",
       "      <td>1250</td>\n",
       "      <td>0.572</td>\n",
       "      <td>524</td>\n",
       "    </tr>\n",
       "    <tr>\n",
       "      <th>2</th>\n",
       "      <td>9.0</td>\n",
       "      <td>3865</td>\n",
       "      <td>1586</td>\n",
       "      <td>0.580</td>\n",
       "      <td>561</td>\n",
       "    </tr>\n",
       "    <tr>\n",
       "      <th>3</th>\n",
       "      <td>7.5</td>\n",
       "      <td>4870</td>\n",
       "      <td>2351</td>\n",
       "      <td>0.529</td>\n",
       "      <td>414</td>\n",
       "    </tr>\n",
       "    <tr>\n",
       "      <th>4</th>\n",
       "      <td>8.0</td>\n",
       "      <td>4399</td>\n",
       "      <td>431</td>\n",
       "      <td>0.544</td>\n",
       "      <td>410</td>\n",
       "    </tr>\n",
       "  </tbody>\n",
       "</table>\n",
       "</div>"
      ],
      "text/plain": [
       "   Petrol_tax  Average_income  Paved_Highways  Population_Driver_licence(%)  \\\n",
       "0         9.0            3571            1976                         0.525   \n",
       "1         9.0            4092            1250                         0.572   \n",
       "2         9.0            3865            1586                         0.580   \n",
       "3         7.5            4870            2351                         0.529   \n",
       "4         8.0            4399             431                         0.544   \n",
       "\n",
       "   Petrol_Consumption  \n",
       "0                 541  \n",
       "1                 524  \n",
       "2                 561  \n",
       "3                 414  \n",
       "4                 410  "
      ]
     },
     "execution_count": 4,
     "metadata": {},
     "output_type": "execute_result"
    }
   ],
   "source": [
    "dataset.head()"
   ]
  },
  {
   "cell_type": "code",
   "execution_count": 5,
   "id": "201b7edf",
   "metadata": {},
   "outputs": [],
   "source": [
    "X = dataset.iloc[:, 0:4].values\n",
    "y = dataset.iloc[:, 4].values "
   ]
  },
  {
   "cell_type": "code",
   "execution_count": 9,
   "id": "ebe5812c",
   "metadata": {},
   "outputs": [],
   "source": [
    "from sklearn.model_selection import train_test_split\n",
    "\n",
    "X_train, X_test, y_train, y_test = train_test_split(X, y, \n",
    "                                                    test_size=0.2, \n",
    "                                                    random_state=0)"
   ]
  },
  {
   "cell_type": "code",
   "execution_count": 10,
   "id": "be5722cd",
   "metadata": {},
   "outputs": [],
   "source": [
    "from sklearn.preprocessing import StandardScaler\n",
    "\n",
    "sc = StandardScaler()\n",
    "X_train = sc.fit_transform(X_train)\n",
    "X_test = sc.transform(X_test)"
   ]
  },
  {
   "cell_type": "code",
   "execution_count": 11,
   "id": "33783204",
   "metadata": {},
   "outputs": [],
   "source": [
    "from sklearn.ensemble import RandomForestRegressor\n",
    "\n",
    "regressor = RandomForestRegressor(n_estimators=20, random_state=0)\n",
    "regressor.fit(X_train, y_train)\n",
    "y_pred = regressor.predict(X_test)"
   ]
  },
  {
   "cell_type": "code",
   "execution_count": 12,
   "id": "218c51b3",
   "metadata": {},
   "outputs": [
    {
     "name": "stdout",
     "output_type": "stream",
     "text": [
      "Mean Absolute Error: 51.76500000000001\n",
      "Mean Squared Error: 4216.166749999999\n",
      "Root Mean Squared Error: 64.93201637097064\n"
     ]
    }
   ],
   "source": [
    "from sklearn import metrics\n",
    "\n",
    "print('Mean Absolute Error:', metrics.mean_absolute_error(y_test, y_pred))\n",
    "print('Mean Squared Error:', metrics.mean_squared_error(y_test, y_pred))\n",
    "print('Root Mean Squared Error:', np.sqrt(metrics.mean_squared_error(y_test, y_pred)))"
   ]
  },
  {
   "cell_type": "code",
   "execution_count": 70,
   "id": "da3c24b6",
   "metadata": {},
   "outputs": [],
   "source": [
    "numbers = [5, 10, 20, 50, 100, 150, 200, 250, 300, 350, 400, 450]\n",
    "def print_metrics_for_different_number_of_trees(numbers):\n",
    "    rmses = []\n",
    "    trees = []\n",
    "    mses = []\n",
    "    maes = []\n",
    "    for number in numbers: \n",
    "        regressor = RandomForestRegressor(n_estimators=number, random_state=0)\n",
    "        regressor.fit(X_train, y_train)\n",
    "        y_pred = regressor.predict(X_test)\n",
    "        trees.append(number)\n",
    "        rmses.append(np.sqrt(metrics.mean_squared_error(y_test, y_pred)))\n",
    "        maes.append(metrics.mean_absolute_error(y_test, y_pred))\n",
    "        mses.append(metrics.mean_squared_error(y_test, y_pred))\n",
    "        print(number)\n",
    "        print('Mean Absolute Error:', metrics.mean_absolute_error(y_test, y_pred))\n",
    "        print('Mean Squared Error:', metrics.mean_squared_error(y_test, y_pred))\n",
    "        print('Root Mean Squared Error:', np.sqrt(metrics.mean_squared_error(y_test, y_pred)))\n",
    "        print('-'*10)\n",
    "    return rmses, trees, mses, maes"
   ]
  },
  {
   "cell_type": "code",
   "execution_count": 71,
   "id": "2ae549e2",
   "metadata": {},
   "outputs": [
    {
     "name": "stdout",
     "output_type": "stream",
     "text": [
      "5\n",
      "Mean Absolute Error: 58.720000000000006\n",
      "Mean Squared Error: 5408.984000000001\n",
      "Root Mean Squared Error: 73.54579525710496\n",
      "----------\n",
      "10\n",
      "Mean Absolute Error: 49.059999999999995\n",
      "Mean Squared Error: 4300.907999999999\n",
      "Root Mean Squared Error: 65.58130831265872\n",
      "----------\n",
      "20\n",
      "Mean Absolute Error: 51.76500000000001\n",
      "Mean Squared Error: 4216.166749999999\n",
      "Root Mean Squared Error: 64.93201637097064\n",
      "----------\n",
      "50\n",
      "Mean Absolute Error: 49.45600000000002\n",
      "Mean Squared Error: 3773.84936\n",
      "Root Mean Squared Error: 61.431664148059674\n",
      "----------\n",
      "100\n",
      "Mean Absolute Error: 48.12099999999999\n",
      "Mean Squared Error: 3624.9929300000003\n",
      "Root Mean Squared Error: 60.207914180778594\n",
      "----------\n",
      "150\n",
      "Mean Absolute Error: 47.962\n",
      "Mean Squared Error: 3546.0343955555554\n",
      "Root Mean Squared Error: 59.54858852697984\n",
      "----------\n",
      "200\n",
      "Mean Absolute Error: 48.124500000000005\n",
      "Mean Squared Error: 3497.802072500001\n",
      "Root Mean Squared Error: 59.142219035981405\n",
      "----------\n",
      "250\n",
      "Mean Absolute Error: 47.988800000000005\n",
      "Mean Squared Error: 3483.7623904000016\n",
      "Root Mean Squared Error: 59.02340544563658\n",
      "----------\n",
      "300\n",
      "Mean Absolute Error: 47.94133333333334\n",
      "Mean Squared Error: 3472.222597777778\n",
      "Root Mean Squared Error: 58.92556828557343\n",
      "----------\n",
      "350\n",
      "Mean Absolute Error: 47.57457142857142\n",
      "Mean Squared Error: 3449.5742146938765\n",
      "Root Mean Squared Error: 58.733075985290235\n",
      "----------\n",
      "400\n",
      "Mean Absolute Error: 47.91199999999999\n",
      "Mean Squared Error: 3481.401009999999\n",
      "Root Mean Squared Error: 59.0033982919628\n",
      "----------\n",
      "450\n",
      "Mean Absolute Error: 47.44711111111111\n",
      "Mean Squared Error: 3472.4565580246913\n",
      "Root Mean Squared Error: 58.92755347055137\n",
      "----------\n"
     ]
    }
   ],
   "source": [
    "rmses, trees, mses, maes = print_metrics_for_different_number_of_trees(numbers)"
   ]
  },
  {
   "cell_type": "code",
   "execution_count": 80,
   "id": "65fe8201",
   "metadata": {},
   "outputs": [
    {
     "data": {
      "text/plain": [
       "array([54.08984   , 43.00908   , 42.1616675 , 37.7384936 , 36.2499293 ,\n",
       "       35.46034396, 34.97802073, 34.8376239 , 34.72222598, 34.49574215,\n",
       "       34.8140101 , 34.72456558])"
      ]
     },
     "execution_count": 80,
     "metadata": {},
     "output_type": "execute_result"
    }
   ],
   "source": [
    "np.array(mses)/100"
   ]
  },
  {
   "cell_type": "code",
   "execution_count": 81,
   "id": "92693a98",
   "metadata": {},
   "outputs": [
    {
     "data": {
      "image/png": "[encoded data removed]",
      "text/plain": [
       "<Figure size 432x288 with 1 Axes>"
      ]
     },
     "metadata": {
      "needs_background": "light"
     },
     "output_type": "display_data"
    }
   ],
   "source": [
    "import matplotlib.pyplot as plt\n",
    "plt.plot(trees, rmses)\n",
    "plt.plot(trees, np.array(mses)/100)\n",
    "plt.plot(trees, maes)\n",
    "plt.title('RMSE and number of estimators')\n",
    "plt.xlabel(\"n_estimators\")\n",
    "plt.ylabel(\"rmse\");"
   ]
  },
  {
   "cell_type": "code",
   "execution_count": null,
   "id": "f05f86fa",
   "metadata": {},
   "outputs": [],
   "source": []
  }
 ],
 "metadata": {
  "kernelspec": {
   "display_name": "Python 3",
   "language": "python",
   "name": "python3"
  },
  "language_info": {
   "codemirror_mode": {
    "name": "ipython",
    "version": 3
   },
   "file_extension": ".py",
   "mimetype": "text/x-python",
   "name": "python",
   "nbconvert_exporter": "python",
   "pygments_lexer": "ipython3",
   "version": "3.8.10"
  }
 },
 "nbformat": 4,
 "nbformat_minor": 5
}
